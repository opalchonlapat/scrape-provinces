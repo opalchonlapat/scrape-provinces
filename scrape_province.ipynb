{
 "cells": [
  {
   "cell_type": "markdown",
   "metadata": {},
   "source": [
    "# Scrape Provinces Name of Thailand.\n",
    "Use web scraping to scrape provinces name of Thailand from Wiki."
   ]
  },
  {
   "cell_type": "code",
   "execution_count": 1,
   "metadata": {},
   "outputs": [],
   "source": [
    "import pandas as pd\n",
    "from bs4 import BeautifulSoup\n",
    "import requests\n",
    "import warnings"
   ]
  },
  {
   "cell_type": "code",
   "execution_count": 2,
   "metadata": {},
   "outputs": [
    {
     "name": "stdout",
     "output_type": "stream",
     "text": [
      "Pandas version: 0.25.1\n"
     ]
    }
   ],
   "source": [
    "print(f\"Pandas version: {pd.__version__}\")"
   ]
  },
  {
   "cell_type": "code",
   "execution_count": 3,
   "metadata": {},
   "outputs": [],
   "source": [
    "pd.set_option('display.max_rows', 10)\n",
    "warnings.filterwarnings('ignore')"
   ]
  },
  {
   "cell_type": "code",
   "execution_count": 4,
   "metadata": {},
   "outputs": [],
   "source": [
    "website_url = requests.get('https://en.wikipedia.org/wiki/Provinces_of_Thailand').text"
   ]
  },
  {
   "cell_type": "code",
   "execution_count": 5,
   "metadata": {},
   "outputs": [],
   "source": [
    "soup = BeautifulSoup(website_url, 'lxml')\n",
    "# print(soup.prettify()) # Uncomment if you want to see html syntax"
   ]
  },
  {
   "cell_type": "markdown",
   "metadata": {},
   "source": [
    "Find `table` tag with class name `wikitable sortable` and then find `td` tag to get data of each column. From HTML structure TH provinces name are in `span` tag and EN provinces name are in `a` tag that's why we will find `span` and `a` tag respectively. After that we will get value in those tag using `.get_text()`."
   ]
  },
  {
   "cell_type": "code",
   "execution_count": 6,
   "metadata": {},
   "outputs": [],
   "source": [
    "my_table = soup.find('table',{'class': 'wikitable sortable'})\n",
    "# my_table # Uncomment if you want to see html syntax"
   ]
  },
  {
   "cell_type": "code",
   "execution_count": 7,
   "metadata": {},
   "outputs": [],
   "source": [
    "links = my_table.find_all('td')\n",
    "# links # Uncomment if you want to see html syntax"
   ]
  },
  {
   "cell_type": "code",
   "execution_count": 8,
   "metadata": {},
   "outputs": [],
   "source": [
    "province_th = []\n",
    "for row in links:\n",
    "    for td in row.find_all('span'):\n",
    "        if td.get_text() != '\\xa0':\n",
    "            province_th.append(td.get_text())"
   ]
  },
  {
   "cell_type": "code",
   "execution_count": 9,
   "metadata": {},
   "outputs": [
    {
     "name": "stdout",
     "output_type": "stream",
     "text": [
      "Length of province TH: 77\n"
     ]
    }
   ],
   "source": [
    "print(f\"Length of province TH: {len(province_th)}\")"
   ]
  },
  {
   "cell_type": "code",
   "execution_count": 10,
   "metadata": {},
   "outputs": [],
   "source": [
    "province_en = []\n",
    "for row in links:\n",
    "    for td in row.find_all('a'):\n",
    "        if td.get_text():\n",
    "            if td.get_text() not in province_en: # drop duplicates\n",
    "                if td.get_text() not in ('Nong Bua Lam Phu', 'Sukhothai Thani'): # drop same provinces\n",
    "                    province_en.append(td.get_text())"
   ]
  },
  {
   "cell_type": "code",
   "execution_count": 11,
   "metadata": {},
   "outputs": [
    {
     "name": "stdout",
     "output_type": "stream",
     "text": [
      "Length of province EN: 77\n"
     ]
    }
   ],
   "source": [
    "print(f\"Length of province EN: {len(province_en)}\")"
   ]
  },
  {
   "cell_type": "code",
   "execution_count": 12,
   "metadata": {},
   "outputs": [
    {
     "data": {
      "text/html": [
       "<div>\n",
       "<style scoped>\n",
       "    .dataframe tbody tr th:only-of-type {\n",
       "        vertical-align: middle;\n",
       "    }\n",
       "\n",
       "    .dataframe tbody tr th {\n",
       "        vertical-align: top;\n",
       "    }\n",
       "\n",
       "    .dataframe thead th {\n",
       "        text-align: right;\n",
       "    }\n",
       "</style>\n",
       "<table border=\"1\" class=\"dataframe\">\n",
       "  <thead>\n",
       "    <tr style=\"text-align: right;\">\n",
       "      <th></th>\n",
       "      <th>en</th>\n",
       "      <th>th</th>\n",
       "    </tr>\n",
       "  </thead>\n",
       "  <tbody>\n",
       "    <tr>\n",
       "      <td>0</td>\n",
       "      <td>Bangkok</td>\n",
       "      <td>กรุงเทพมหานคร</td>\n",
       "    </tr>\n",
       "    <tr>\n",
       "      <td>1</td>\n",
       "      <td>Amnat Charoen</td>\n",
       "      <td>อำนาจเจริญ</td>\n",
       "    </tr>\n",
       "    <tr>\n",
       "      <td>2</td>\n",
       "      <td>Ang Thong</td>\n",
       "      <td>อ่างทอง</td>\n",
       "    </tr>\n",
       "    <tr>\n",
       "      <td>3</td>\n",
       "      <td>Bueng Kan</td>\n",
       "      <td>บึงกาฬ</td>\n",
       "    </tr>\n",
       "    <tr>\n",
       "      <td>4</td>\n",
       "      <td>Buriram</td>\n",
       "      <td>บุรีรัมย์</td>\n",
       "    </tr>\n",
       "    <tr>\n",
       "      <td>...</td>\n",
       "      <td>...</td>\n",
       "      <td>...</td>\n",
       "    </tr>\n",
       "    <tr>\n",
       "      <td>72</td>\n",
       "      <td>Udon Thani</td>\n",
       "      <td>อุดรธานี</td>\n",
       "    </tr>\n",
       "    <tr>\n",
       "      <td>73</td>\n",
       "      <td>Uthai Thani</td>\n",
       "      <td>อุทัยธานี</td>\n",
       "    </tr>\n",
       "    <tr>\n",
       "      <td>74</td>\n",
       "      <td>Uttaradit</td>\n",
       "      <td>อุตรดิตถ์</td>\n",
       "    </tr>\n",
       "    <tr>\n",
       "      <td>75</td>\n",
       "      <td>Yala</td>\n",
       "      <td>ยะลา</td>\n",
       "    </tr>\n",
       "    <tr>\n",
       "      <td>76</td>\n",
       "      <td>Yasothon</td>\n",
       "      <td>ยโสธร</td>\n",
       "    </tr>\n",
       "  </tbody>\n",
       "</table>\n",
       "<p>77 rows × 2 columns</p>\n",
       "</div>"
      ],
      "text/plain": [
       "               en             th\n",
       "0         Bangkok  กรุงเทพมหานคร\n",
       "1   Amnat Charoen     อำนาจเจริญ\n",
       "2       Ang Thong        อ่างทอง\n",
       "3       Bueng Kan         บึงกาฬ\n",
       "4         Buriram      บุรีรัมย์\n",
       "..            ...            ...\n",
       "72     Udon Thani       อุดรธานี\n",
       "73    Uthai Thani      อุทัยธานี\n",
       "74      Uttaradit      อุตรดิตถ์\n",
       "75           Yala           ยะลา\n",
       "76       Yasothon          ยโสธร\n",
       "\n",
       "[77 rows x 2 columns]"
      ]
     },
     "execution_count": 12,
     "metadata": {},
     "output_type": "execute_result"
    }
   ],
   "source": [
    "province_df = pd.DataFrame()\n",
    "province_df['en'] = province_en\n",
    "province_df['th'] = province_th\n",
    "province_df"
   ]
  },
  {
   "cell_type": "code",
   "execution_count": null,
   "metadata": {},
   "outputs": [],
   "source": []
  }
 ],
 "metadata": {
  "kernelspec": {
   "display_name": "Python 3",
   "language": "python",
   "name": "python3"
  },
  "language_info": {
   "codemirror_mode": {
    "name": "ipython",
    "version": 3
   },
   "file_extension": ".py",
   "mimetype": "text/x-python",
   "name": "python",
   "nbconvert_exporter": "python",
   "pygments_lexer": "ipython3",
   "version": "3.6.7"
  }
 },
 "nbformat": 4,
 "nbformat_minor": 4
}
